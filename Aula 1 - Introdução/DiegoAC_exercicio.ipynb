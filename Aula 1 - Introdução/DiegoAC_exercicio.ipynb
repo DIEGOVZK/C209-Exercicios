{
 "cells": [
  {
   "cell_type": "code",
   "execution_count": null,
   "metadata": {},
   "outputs": [],
   "source": []
  }
 ],
 "metadata": {
  "kernelspec": {
   "display_name": "Python 3.10.2 64-bit",
   "language": "python",
   "name": "python3"
  },
  "language_info": {
   "codemirror_mode": {
    "name": "ipython",
    "version": 3
   },
   "file_extension": ".py",
   "mimetype": "text/x-python",
   "name": "python",
   "nbconvert_exporter": "python",
   "pygments_lexer": "ipython3",
   "version": "3.10.2"
  },
  "orig_nbformat": 4,
  "vscode": {
   "interpreter": {
    "hash": "d84c7c7581fbb060129a7814c7432df99c3e3cd8cbdff8553cc4750b2941e60f"
   }
  }
 },
 "nbformat": 4,
 "nbformat_minor": 2
}
